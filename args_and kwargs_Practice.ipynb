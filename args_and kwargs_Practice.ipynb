{
  "nbformat": 4,
  "nbformat_minor": 0,
  "metadata": {
    "colab": {
      "provenance": []
    },
    "kernelspec": {
      "name": "python3",
      "display_name": "Python 3"
    },
    "language_info": {
      "name": "python"
    }
  },
  "cells": [
    {
      "cell_type": "code",
      "execution_count": 1,
      "metadata": {
        "id": "f-tsGNH_cmHA"
      },
      "outputs": [],
      "source": [
        "def addition(a,b):\n",
        "  return a+b"
      ]
    },
    {
      "cell_type": "code",
      "source": [
        "addition(1,2,3)"
      ],
      "metadata": {
        "colab": {
          "base_uri": "https://localhost:8080/",
          "height": 182
        },
        "id": "bTNhNNB3e3aV",
        "outputId": "8e7ed920-43bd-471b-f42f-6eebfb422728"
      },
      "execution_count": 2,
      "outputs": [
        {
          "output_type": "error",
          "ename": "TypeError",
          "evalue": "ignored",
          "traceback": [
            "\u001b[0;31m---------------------------------------------------------------------------\u001b[0m",
            "\u001b[0;31mTypeError\u001b[0m                                 Traceback (most recent call last)",
            "\u001b[0;32m<ipython-input-2-15d9c2251f36>\u001b[0m in \u001b[0;36m<cell line: 1>\u001b[0;34m()\u001b[0m\n\u001b[0;32m----> 1\u001b[0;31m \u001b[0maddition\u001b[0m\u001b[0;34m(\u001b[0m\u001b[0;36m1\u001b[0m\u001b[0;34m,\u001b[0m\u001b[0;36m2\u001b[0m\u001b[0;34m,\u001b[0m\u001b[0;36m3\u001b[0m\u001b[0;34m)\u001b[0m\u001b[0;34m\u001b[0m\u001b[0;34m\u001b[0m\u001b[0m\n\u001b[0m",
            "\u001b[0;31mTypeError\u001b[0m: addition() takes 2 positional arguments but 3 were given"
          ]
        }
      ]
    },
    {
      "cell_type": "code",
      "source": [
        "def addition(*num):\n",
        "  sum = 0\n",
        "  print(num)\n",
        "  for i in num:\n",
        "    sum = sum+i\n",
        "\n",
        "  return sum"
      ],
      "metadata": {
        "id": "cEHcr26de_jV"
      },
      "execution_count": 12,
      "outputs": []
    },
    {
      "cell_type": "code",
      "source": [
        "addition(1,2,3,4,4)"
      ],
      "metadata": {
        "colab": {
          "base_uri": "https://localhost:8080/"
        },
        "id": "Yr6-tvAsfnsG",
        "outputId": "f285f47a-7174-48e0-8675-56d805ca2659"
      },
      "execution_count": 13,
      "outputs": [
        {
          "output_type": "stream",
          "name": "stdout",
          "text": [
            "(1, 2, 3, 4, 4)\n"
          ]
        },
        {
          "output_type": "execute_result",
          "data": {
            "text/plain": [
              "14"
            ]
          },
          "metadata": {},
          "execution_count": 13
        }
      ]
    },
    {
      "cell_type": "code",
      "source": [
        "addition(1,2)"
      ],
      "metadata": {
        "colab": {
          "base_uri": "https://localhost:8080/"
        },
        "id": "RPB7rxyWfrxj",
        "outputId": "46709585-94e8-47a3-ca70-3db90b23f73d"
      },
      "execution_count": 7,
      "outputs": [
        {
          "output_type": "execute_result",
          "data": {
            "text/plain": [
              "3"
            ]
          },
          "metadata": {},
          "execution_count": 7
        }
      ]
    },
    {
      "cell_type": "code",
      "source": [
        "#kwargs: key worded argument\n",
        "#default arguments\n",
        "def addition(a,b=10):\n",
        "  print(a)\n",
        "  print(b)\n",
        "  return a+b"
      ],
      "metadata": {
        "id": "lULwiGikf0Xj"
      },
      "execution_count": 16,
      "outputs": []
    },
    {
      "cell_type": "code",
      "source": [
        "addition(2)"
      ],
      "metadata": {
        "colab": {
          "base_uri": "https://localhost:8080/"
        },
        "id": "AQKL4l77hVGV",
        "outputId": "32d9b384-5707-4458-a997-13c036e91c24"
      },
      "execution_count": 17,
      "outputs": [
        {
          "output_type": "stream",
          "name": "stdout",
          "text": [
            "2\n",
            "10\n"
          ]
        },
        {
          "output_type": "execute_result",
          "data": {
            "text/plain": [
              "12"
            ]
          },
          "metadata": {},
          "execution_count": 17
        }
      ]
    },
    {
      "cell_type": "code",
      "source": [
        "addition(2,6)"
      ],
      "metadata": {
        "colab": {
          "base_uri": "https://localhost:8080/"
        },
        "id": "R9HWEqSshXgi",
        "outputId": "92e6dac4-f010-45da-a0c8-d3accd5dedbb"
      },
      "execution_count": 18,
      "outputs": [
        {
          "output_type": "stream",
          "name": "stdout",
          "text": [
            "2\n",
            "6\n"
          ]
        },
        {
          "output_type": "execute_result",
          "data": {
            "text/plain": [
              "8"
            ]
          },
          "metadata": {},
          "execution_count": 18
        }
      ]
    },
    {
      "cell_type": "code",
      "source": [
        "def addition(a,b=10):\n",
        "  print(a)\n",
        "  print(b)\n",
        "  return a+b"
      ],
      "metadata": {
        "id": "mGy0Z4J5h11S"
      },
      "execution_count": 20,
      "outputs": []
    },
    {
      "cell_type": "code",
      "source": [
        "addition(b=10,a=20) #key worded arguments"
      ],
      "metadata": {
        "colab": {
          "base_uri": "https://localhost:8080/"
        },
        "id": "t7HxCz8yih6u",
        "outputId": "7b5277d1-b914-4a48-b1f2-b86223db4a5c"
      },
      "execution_count": 22,
      "outputs": [
        {
          "output_type": "stream",
          "name": "stdout",
          "text": [
            "20\n",
            "10\n"
          ]
        },
        {
          "output_type": "execute_result",
          "data": {
            "text/plain": [
              "30"
            ]
          },
          "metadata": {},
          "execution_count": 22
        }
      ]
    },
    {
      "cell_type": "code",
      "source": [
        "def account_balance(**kwargs):\n",
        "  print(kwargs)\n",
        "  if 'debit' in kwargs:\n",
        "    print(\"Amount debited is \",kwargs['debit'])\n",
        "  else:\n",
        "    print(\"No amount debited !\")"
      ],
      "metadata": {
        "id": "Zd5BiZpxjKKL"
      },
      "execution_count": 34,
      "outputs": []
    },
    {
      "cell_type": "code",
      "source": [
        "account_balance(name=\"Ankur\",age=33,debit=1000)"
      ],
      "metadata": {
        "colab": {
          "base_uri": "https://localhost:8080/"
        },
        "id": "bHKS0X3okMFb",
        "outputId": "6c12ab27-c0f5-4a12-d3b7-42129d43e132"
      },
      "execution_count": 35,
      "outputs": [
        {
          "output_type": "stream",
          "name": "stdout",
          "text": [
            "{'name': 'Ankur', 'age': 33, 'debit': 1000}\n",
            "Amount debited is  1000\n"
          ]
        }
      ]
    },
    {
      "cell_type": "code",
      "source": [
        "account_balance(name=\"Ankur\",age=33)"
      ],
      "metadata": {
        "colab": {
          "base_uri": "https://localhost:8080/"
        },
        "id": "NHhZXdJdkZWb",
        "outputId": "39066e22-f524-46bb-9350-ae883cfe65b0"
      },
      "execution_count": 25,
      "outputs": [
        {
          "output_type": "stream",
          "name": "stdout",
          "text": [
            "No amount debited !\n"
          ]
        }
      ]
    },
    {
      "cell_type": "code",
      "source": [
        "account_balance(x=5)"
      ],
      "metadata": {
        "colab": {
          "base_uri": "https://localhost:8080/"
        },
        "id": "JP6XtqTDkdOa",
        "outputId": "e0eda54d-ae52-4a74-a11f-a72fce73f783"
      },
      "execution_count": 29,
      "outputs": [
        {
          "output_type": "stream",
          "name": "stdout",
          "text": [
            "No amount debited !\n"
          ]
        }
      ]
    },
    {
      "cell_type": "code",
      "source": [
        "account_balance(name=\"Ankur\",age=33,debit=1000)"
      ],
      "metadata": {
        "colab": {
          "base_uri": "https://localhost:8080/"
        },
        "id": "0bNYZcdzkix0",
        "outputId": "838c314c-f6ef-4f8d-a4a9-95a4e7039ba1"
      },
      "execution_count": 30,
      "outputs": [
        {
          "output_type": "stream",
          "name": "stdout",
          "text": [
            "Amount is debited !\n"
          ]
        }
      ]
    },
    {
      "cell_type": "code",
      "source": [
        "account_balance(name=\"Ankur\",age=33,debit=10000)"
      ],
      "metadata": {
        "colab": {
          "base_uri": "https://localhost:8080/"
        },
        "id": "XMS5g5Rak7yF",
        "outputId": "b0ece587-af4a-4020-b007-472d403efe4c"
      },
      "execution_count": 36,
      "outputs": [
        {
          "output_type": "stream",
          "name": "stdout",
          "text": [
            "{'name': 'Ankur', 'age': 33, 'debit': 10000}\n",
            "Amount debited is  10000\n"
          ]
        }
      ]
    },
    {
      "cell_type": "code",
      "source": [
        "account_balance(name=\"Ankur\",age=33,debit=3200)"
      ],
      "metadata": {
        "colab": {
          "base_uri": "https://localhost:8080/"
        },
        "id": "y07NnEhqk9qI",
        "outputId": "12aec785-5918-4da7-8325-a705e5ac80ba"
      },
      "execution_count": 37,
      "outputs": [
        {
          "output_type": "stream",
          "name": "stdout",
          "text": [
            "{'name': 'Ankur', 'age': 33, 'debit': 3200}\n",
            "Amount debited is  3200\n"
          ]
        }
      ]
    },
    {
      "cell_type": "code",
      "source": [],
      "metadata": {
        "id": "az_O52tYnOeW"
      },
      "execution_count": null,
      "outputs": []
    }
  ]
}