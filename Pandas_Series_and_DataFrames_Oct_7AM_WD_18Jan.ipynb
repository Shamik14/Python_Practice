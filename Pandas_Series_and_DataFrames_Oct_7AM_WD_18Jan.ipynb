{
  "nbformat": 4,
  "nbformat_minor": 0,
  "metadata": {
    "colab": {
      "provenance": []
    },
    "kernelspec": {
      "name": "python3",
      "display_name": "Python 3"
    },
    "language_info": {
      "name": "python"
    }
  },
  "cells": [
    {
      "cell_type": "code",
      "execution_count": 3,
      "metadata": {
        "id": "VsYkqki8UbNp"
      },
      "outputs": [],
      "source": [
        "#Series\n",
        "import pandas as pd"
      ]
    },
    {
      "cell_type": "markdown",
      "source": [
        "Series: A pandas series is very much similar to that of a numpy array. The primary difference between a Series and an array is that, a Series can have labelled indexes."
      ],
      "metadata": {
        "id": "G65m1GONVvP_"
      }
    },
    {
      "cell_type": "code",
      "source": [
        "import numpy as np\n",
        "arr = np.array([10,20,30])\n",
        "print(arr)"
      ],
      "metadata": {
        "colab": {
          "base_uri": "https://localhost:8080/"
        },
        "id": "r3Lo1_96V9eN",
        "outputId": "b44c22d6-23cd-41a1-ae6f-0b9f773dd543"
      },
      "execution_count": 1,
      "outputs": [
        {
          "output_type": "stream",
          "name": "stdout",
          "text": [
            "[10 20 30]\n"
          ]
        }
      ]
    },
    {
      "cell_type": "code",
      "source": [
        "ser = pd.Series(arr)\n",
        "print(ser)"
      ],
      "metadata": {
        "colab": {
          "base_uri": "https://localhost:8080/"
        },
        "id": "GW19KgREWDjn",
        "outputId": "93a79100-532d-4abf-8299-9371eec749e5"
      },
      "execution_count": 4,
      "outputs": [
        {
          "output_type": "stream",
          "name": "stdout",
          "text": [
            "0    10\n",
            "1    20\n",
            "2    30\n",
            "dtype: int64\n"
          ]
        }
      ]
    },
    {
      "cell_type": "code",
      "source": [
        "ser1 = pd.Series(arr,index=['a','b','c'])\n",
        "print(ser1)"
      ],
      "metadata": {
        "colab": {
          "base_uri": "https://localhost:8080/"
        },
        "id": "37V9FnB2WeC3",
        "outputId": "0ed6bae2-9ab3-44c7-c32d-87f6fc1e2df6"
      },
      "execution_count": 5,
      "outputs": [
        {
          "output_type": "stream",
          "name": "stdout",
          "text": [
            "a    10\n",
            "b    20\n",
            "c    30\n",
            "dtype: int64\n"
          ]
        }
      ]
    },
    {
      "cell_type": "code",
      "source": [
        "ser1[0]"
      ],
      "metadata": {
        "colab": {
          "base_uri": "https://localhost:8080/"
        },
        "id": "IKp8K424XGu4",
        "outputId": "b6e00fca-ab96-4656-f9a5-80e3a4cd8eb0"
      },
      "execution_count": 6,
      "outputs": [
        {
          "output_type": "execute_result",
          "data": {
            "text/plain": [
              "10"
            ]
          },
          "metadata": {},
          "execution_count": 6
        }
      ]
    },
    {
      "cell_type": "code",
      "source": [
        "ser1['a']"
      ],
      "metadata": {
        "colab": {
          "base_uri": "https://localhost:8080/"
        },
        "id": "njPZ4npoXIyE",
        "outputId": "6db4cae2-c7cf-463e-c39f-e4e19fdd864d"
      },
      "execution_count": 7,
      "outputs": [
        {
          "output_type": "execute_result",
          "data": {
            "text/plain": [
              "10"
            ]
          },
          "metadata": {},
          "execution_count": 7
        }
      ]
    },
    {
      "cell_type": "code",
      "source": [
        "ser2 = pd.Series({'a':10,'b':\"Ankur\"})\n",
        "print(ser2)"
      ],
      "metadata": {
        "colab": {
          "base_uri": "https://localhost:8080/"
        },
        "id": "Oyu5PyG2XLW0",
        "outputId": "3ebcd064-41f5-4257-de91-57e3b3d4434f"
      },
      "execution_count": 8,
      "outputs": [
        {
          "output_type": "stream",
          "name": "stdout",
          "text": [
            "a       10\n",
            "b    Ankur\n",
            "dtype: object\n"
          ]
        }
      ]
    },
    {
      "cell_type": "code",
      "source": [
        "ser1 = pd.Series([10,20,30],index=[5,6,7])\n",
        "ser2 = pd.Series([40,50,60],index=[8,9,10])"
      ],
      "metadata": {
        "id": "uzT9V3q5XxNI"
      },
      "execution_count": 11,
      "outputs": []
    },
    {
      "cell_type": "code",
      "source": [
        "print(ser1+ser2)"
      ],
      "metadata": {
        "colab": {
          "base_uri": "https://localhost:8080/"
        },
        "id": "95Dsb5PNYluy",
        "outputId": "36c57ba6-7372-43a4-e492-eeb9a6755216"
      },
      "execution_count": 12,
      "outputs": [
        {
          "output_type": "stream",
          "name": "stdout",
          "text": [
            "5    NaN\n",
            "6    NaN\n",
            "7    NaN\n",
            "8    NaN\n",
            "9    NaN\n",
            "10   NaN\n",
            "dtype: float64\n"
          ]
        }
      ]
    },
    {
      "cell_type": "code",
      "source": [
        "#NaN: Not a number\n",
        "ser1[0:2]=100"
      ],
      "metadata": {
        "id": "KYLUBzuXZA-o"
      },
      "execution_count": 17,
      "outputs": []
    },
    {
      "cell_type": "code",
      "source": [
        "ser1"
      ],
      "metadata": {
        "colab": {
          "base_uri": "https://localhost:8080/"
        },
        "id": "wUBjyUJna-90",
        "outputId": "3ef2e0cc-6b88-46c3-d09e-8e1ba2a74288"
      },
      "execution_count": 18,
      "outputs": [
        {
          "output_type": "execute_result",
          "data": {
            "text/plain": [
              "5    100\n",
              "6    100\n",
              "7     30\n",
              "dtype: int64"
            ]
          },
          "metadata": {},
          "execution_count": 18
        }
      ]
    },
    {
      "cell_type": "code",
      "source": [],
      "metadata": {
        "id": "yb5cG0GobP0D"
      },
      "execution_count": null,
      "outputs": []
    }
  ]
}