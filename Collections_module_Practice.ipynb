{
  "nbformat": 4,
  "nbformat_minor": 0,
  "metadata": {
    "colab": {
      "provenance": []
    },
    "kernelspec": {
      "name": "python3",
      "display_name": "Python 3"
    },
    "language_info": {
      "name": "python"
    }
  },
  "cells": [
    {
      "cell_type": "code",
      "execution_count": 1,
      "metadata": {
        "id": "Cwn8Ulc-zEsh"
      },
      "outputs": [],
      "source": [
        "from collections import Counter"
      ]
    },
    {
      "cell_type": "code",
      "source": [
        "lst = [1,2,2,2,2,2,2,2,3,3,3,3,3,3,3,3,3,3,4,4,4,4,4,4,4,4,5,5,5,5,5,5,5,2,1]\n",
        "#i = [1,2,3,4,5,6,7,7,7,7,7]\n",
        "d = {x:lst.count(x) for x in lst}\n",
        "print(d)"
      ],
      "metadata": {
        "colab": {
          "base_uri": "https://localhost:8080/"
        },
        "id": "nVUk4QXWzV0L",
        "outputId": "bafef357-3bee-4643-848c-87f197552085"
      },
      "execution_count": 2,
      "outputs": [
        {
          "output_type": "stream",
          "name": "stdout",
          "text": [
            "{1: 2, 2: 8, 3: 10, 4: 8, 5: 7}\n"
          ]
        }
      ]
    },
    {
      "cell_type": "code",
      "source": [
        "Counter(lst)"
      ],
      "metadata": {
        "colab": {
          "base_uri": "https://localhost:8080/"
        },
        "id": "uSkfnmw001th",
        "outputId": "98b1a8a4-cdbc-46ff-e6ed-0250db4e7fa7"
      },
      "execution_count": 3,
      "outputs": [
        {
          "output_type": "execute_result",
          "data": {
            "text/plain": [
              "Counter({1: 2, 2: 8, 3: 10, 4: 8, 5: 7})"
            ]
          },
          "metadata": {},
          "execution_count": 3
        }
      ]
    },
    {
      "cell_type": "code",
      "source": [
        "s = 'aaaaaaaabbbbbbbbbbccccccccccccddddddddddddddeeeeeeeeeeee'\n",
        "Counter(s)"
      ],
      "metadata": {
        "colab": {
          "base_uri": "https://localhost:8080/"
        },
        "id": "ZZOHZ6TR1MSE",
        "outputId": "42ca0e4a-b0ba-468b-d961-0c2c1b76f2f8"
      },
      "execution_count": 4,
      "outputs": [
        {
          "output_type": "execute_result",
          "data": {
            "text/plain": [
              "Counter({'a': 8, 'b': 10, 'c': 12, 'd': 14, 'e': 12})"
            ]
          },
          "metadata": {},
          "execution_count": 4
        }
      ]
    },
    {
      "cell_type": "code",
      "source": [
        "s = \"How many times does each word show up each each word How many times\"\n",
        "words = s.split()\n",
        "Counter(words)"
      ],
      "metadata": {
        "colab": {
          "base_uri": "https://localhost:8080/"
        },
        "id": "s23ASP6r1h-4",
        "outputId": "93aa5674-5ae1-4b48-ef9c-674322d9922a"
      },
      "execution_count": 5,
      "outputs": [
        {
          "output_type": "execute_result",
          "data": {
            "text/plain": [
              "Counter({'How': 2,\n",
              "         'many': 2,\n",
              "         'times': 2,\n",
              "         'does': 1,\n",
              "         'each': 3,\n",
              "         'word': 2,\n",
              "         'show': 1,\n",
              "         'up': 1})"
            ]
          },
          "metadata": {},
          "execution_count": 5
        }
      ]
    },
    {
      "cell_type": "code",
      "source": [
        "from collections import OrderedDict"
      ],
      "metadata": {
        "id": "2xia7PQq2aI0"
      },
      "execution_count": 6,
      "outputs": []
    },
    {
      "cell_type": "code",
      "source": [
        "print(\"Normal dictionary\")\n",
        "d1 = {}\n",
        "d1['a'] = 'A'\n",
        "d1['b'] = 'B'\n",
        "\n",
        "d2 = {}\n",
        "d2['b'] = 'B'\n",
        "d2['a'] = 'A'\n",
        "\n",
        "print(\"Are the dictionaries equal ?\")\n",
        "d1 == d2"
      ],
      "metadata": {
        "colab": {
          "base_uri": "https://localhost:8080/"
        },
        "id": "zmFFTLdd2tv7",
        "outputId": "780a8e58-633e-4f05-bea7-42735f92a10d"
      },
      "execution_count": 7,
      "outputs": [
        {
          "output_type": "stream",
          "name": "stdout",
          "text": [
            "Normal dictionary\n",
            "Are the dictionaries equal ?\n"
          ]
        },
        {
          "output_type": "execute_result",
          "data": {
            "text/plain": [
              "True"
            ]
          },
          "metadata": {},
          "execution_count": 7
        }
      ]
    },
    {
      "cell_type": "code",
      "source": [
        "[1,2] == [1,2]"
      ],
      "metadata": {
        "colab": {
          "base_uri": "https://localhost:8080/"
        },
        "id": "tw6wNn5J3Pkt",
        "outputId": "56a4d06d-820a-4d53-8859-3c0fde262a18"
      },
      "execution_count": 9,
      "outputs": [
        {
          "output_type": "execute_result",
          "data": {
            "text/plain": [
              "True"
            ]
          },
          "metadata": {},
          "execution_count": 9
        }
      ]
    },
    {
      "cell_type": "code",
      "source": [
        "d1 = OrderedDict()\n",
        "d1['a'] = 'A'\n",
        "d1['b'] = 'B'\n",
        "\n",
        "d2 = OrderedDict()\n",
        "d2['b'] = 'B'\n",
        "d2['a'] = 'A'\n",
        "\n",
        "print(\"Are the dictionaries equal ?\")\n",
        "d1 == d2\n"
      ],
      "metadata": {
        "colab": {
          "base_uri": "https://localhost:8080/"
        },
        "id": "XeKMLc5g3b29",
        "outputId": "30d21580-e782-4123-9cf3-f95a8568f4a0"
      },
      "execution_count": 10,
      "outputs": [
        {
          "output_type": "stream",
          "name": "stdout",
          "text": [
            "Are the dictionaries equal ?\n"
          ]
        },
        {
          "output_type": "execute_result",
          "data": {
            "text/plain": [
              "False"
            ]
          },
          "metadata": {},
          "execution_count": 10
        }
      ]
    },
    {
      "cell_type": "code",
      "source": [
        "from collections import defaultdict"
      ],
      "metadata": {
        "id": "rdGzCqH439tH"
      },
      "execution_count": 13,
      "outputs": []
    },
    {
      "cell_type": "code",
      "source": [],
      "metadata": {
        "id": "lgVDBXKC4rZ0"
      },
      "execution_count": null,
      "outputs": []
    }
  ]
}