{
  "nbformat": 4,
  "nbformat_minor": 0,
  "metadata": {
    "colab": {
      "provenance": []
    },
    "kernelspec": {
      "name": "python3",
      "display_name": "Python 3"
    },
    "language_info": {
      "name": "python"
    }
  },
  "cells": [
    {
      "cell_type": "code",
      "execution_count": null,
      "metadata": {
        "id": "jxsjvE9AGJ_u"
      },
      "outputs": [],
      "source": [
        "class Animal:\n",
        "  def __init__(self,name):\n",
        "    self.name = name\n",
        "  def speak(self):\n",
        "    print(self.name)\n",
        "\n",
        "class Dog(Animal):\n",
        "  def speak(self):\n",
        "    return self.name+' says woof !'\n",
        "\n",
        "class Cat(Animal):\n",
        "  def speak(self):\n",
        "    return self.name+\" says meow !\""
      ]
    },
    {
      "cell_type": "code",
      "source": [
        "fido = Dog(\"Sam\")\n",
        "fido.speak()"
      ],
      "metadata": {
        "colab": {
          "base_uri": "https://localhost:8080/",
          "height": 36
        },
        "id": "M_TDgsUOI5aW",
        "outputId": "6f64eadb-76cc-438c-b055-f01f4cac83d8"
      },
      "execution_count": null,
      "outputs": [
        {
          "output_type": "execute_result",
          "data": {
            "text/plain": [
              "'Sam says woof !'"
            ],
            "application/vnd.google.colaboratory.intrinsic+json": {
              "type": "string"
            }
          },
          "metadata": {},
          "execution_count": 2
        }
      ]
    },
    {
      "cell_type": "code",
      "source": [
        "a = Animal(\"Sam1\")\n",
        "a.speak()"
      ],
      "metadata": {
        "colab": {
          "base_uri": "https://localhost:8080/"
        },
        "id": "XICXsU3xJTgX",
        "outputId": "55bf0256-2eda-42af-fa56-d516af8f620e"
      },
      "execution_count": null,
      "outputs": [
        {
          "output_type": "stream",
          "name": "stdout",
          "text": [
            "Sam1\n"
          ]
        }
      ]
    },
    {
      "cell_type": "code",
      "source": [
        "fido.speak()"
      ],
      "metadata": {
        "colab": {
          "base_uri": "https://localhost:8080/",
          "height": 36
        },
        "id": "hF2xJCXwJnfg",
        "outputId": "d1b2ff02-d181-4612-bdef-f2fcbacb01b7"
      },
      "execution_count": null,
      "outputs": [
        {
          "output_type": "execute_result",
          "data": {
            "text/plain": [
              "'Sam says woof !'"
            ],
            "application/vnd.google.colaboratory.intrinsic+json": {
              "type": "string"
            }
          },
          "metadata": {},
          "execution_count": 4
        }
      ]
    },
    {
      "cell_type": "markdown",
      "source": [
        "There are 5 types of inheritance:\n",
        "1. Multiple inheritance: If a class is derived from more than 1 base class.\n",
        "\n",
        "2. Multilevel inheritance : If a class is derived from 1 base class and then another class is derived from the previous class.\n",
        "3. Hierarchial inheritance : If multiple classes are derived from 1 base class\n",
        "4. Hybrid inheritance\n",
        "5. Single inheritance: If a class is derived from 1 base class."
      ],
      "metadata": {
        "id": "mHXXwJrFJ836"
      }
    },
    {
      "cell_type": "code",
      "source": [
        "class Car:\n",
        "  def __init__(self,wheels=4):\n",
        "    self.wheels = wheels\n",
        "\n",
        "class Gasoline(Car):\n",
        "  def __init__(self,engine=\"Gasoline\",tank_cap=20):\n",
        "    Car.__init__(self)\n",
        "    self.engine = engine\n",
        "    self.tank_cap = tank_cap\n",
        "    self.tank = 0\n",
        "\n",
        "  def refuel(self):\n",
        "    self.tank = self.tank_cap\n",
        "\n",
        "class Electric(Car):\n",
        "  def __init__(self,engine=\"Electric\",kwh_cap=60):\n",
        "    Car.__init__(self)\n",
        "    self.engine = engine\n",
        "    self.kwh_cap = kwh_cap\n",
        "    self.kwh = 0\n",
        "\n",
        "  def recharge(self):\n",
        "    self.kwh = self.kwh_cap"
      ],
      "metadata": {
        "id": "qCGVCjpnJ2VX"
      },
      "execution_count": null,
      "outputs": []
    },
    {
      "cell_type": "code",
      "source": [
        "class Hybrid(Gasoline,Electric):\n",
        "  def __init__(self,engine = \"Hybrid\",tank_cap = 11,kwh_cap = 20):\n",
        "    Gasoline.__init__(self,engine,tank_cap)\n",
        "    Electric.__init__(self,engine,kwh_cap)\n"
      ],
      "metadata": {
        "id": "rOHKJS4JQFxC"
      },
      "execution_count": null,
      "outputs": []
    },
    {
      "cell_type": "code",
      "source": [
        "class Hybrid(Gasoline,Electric):\n",
        "  def __init__(self,engine = \"Hybrid\",tank_cap = 11,kwh_cap = 20):\n",
        "    Gasoline.__init__(self,engine)\n",
        "    Electric.__init__(self,engine)\n"
      ],
      "metadata": {
        "id": "eiBmLc1wSWc-"
      },
      "execution_count": null,
      "outputs": []
    },
    {
      "cell_type": "code",
      "source": [
        "prius = Hybrid()\n",
        "prius.kwh"
      ],
      "metadata": {
        "colab": {
          "base_uri": "https://localhost:8080/"
        },
        "id": "DNjsaAkORZhL",
        "outputId": "4b497192-e4df-4b04-bc38-a1b1eb6fdc2a"
      },
      "execution_count": null,
      "outputs": [
        {
          "output_type": "execute_result",
          "data": {
            "text/plain": [
              "0"
            ]
          },
          "metadata": {},
          "execution_count": 12
        }
      ]
    },
    {
      "cell_type": "code",
      "source": [
        "prius.recharge()\n",
        "prius.kwh"
      ],
      "metadata": {
        "colab": {
          "base_uri": "https://localhost:8080/"
        },
        "id": "qIfNPIWhSG2G",
        "outputId": "762e3df8-5d68-40ba-e933-8aabd79fa4b9"
      },
      "execution_count": null,
      "outputs": [
        {
          "output_type": "execute_result",
          "data": {
            "text/plain": [
              "60"
            ]
          },
          "metadata": {},
          "execution_count": 13
        }
      ]
    },
    {
      "cell_type": "code",
      "source": [
        "prius.tank"
      ],
      "metadata": {
        "colab": {
          "base_uri": "https://localhost:8080/"
        },
        "id": "FDnfLvqRSPL4",
        "outputId": "600c1099-ba02-4b6d-9c10-e73ee19a19b3"
      },
      "execution_count": null,
      "outputs": [
        {
          "output_type": "execute_result",
          "data": {
            "text/plain": [
              "0"
            ]
          },
          "metadata": {},
          "execution_count": 14
        }
      ]
    },
    {
      "cell_type": "code",
      "source": [
        "prius.refuel()\n",
        "prius.tank"
      ],
      "metadata": {
        "colab": {
          "base_uri": "https://localhost:8080/"
        },
        "id": "EEe81CJFScoB",
        "outputId": "755f96e7-11a2-4183-8b87-c50d34330b6a"
      },
      "execution_count": null,
      "outputs": [
        {
          "output_type": "execute_result",
          "data": {
            "text/plain": [
              "20"
            ]
          },
          "metadata": {},
          "execution_count": 15
        }
      ]
    },
    {
      "cell_type": "code",
      "source": [
        "e = Electric()"
      ],
      "metadata": {
        "id": "ZE0MC8jhSgSu"
      },
      "execution_count": null,
      "outputs": []
    },
    {
      "cell_type": "code",
      "source": [
        "e.kwh"
      ],
      "metadata": {
        "colab": {
          "base_uri": "https://localhost:8080/"
        },
        "id": "oUobI6TYTNnT",
        "outputId": "8fe2be09-c65f-45f3-f15b-941b34a1abeb"
      },
      "execution_count": null,
      "outputs": [
        {
          "output_type": "execute_result",
          "data": {
            "text/plain": [
              "0"
            ]
          },
          "metadata": {},
          "execution_count": 17
        }
      ]
    },
    {
      "cell_type": "code",
      "source": [
        "e.recharge()\n",
        "e.kwh"
      ],
      "metadata": {
        "colab": {
          "base_uri": "https://localhost:8080/"
        },
        "id": "SF2pcyvUTQWI",
        "outputId": "08b6098d-3f1d-4e2b-8d62-e4ffa563498b"
      },
      "execution_count": null,
      "outputs": [
        {
          "output_type": "execute_result",
          "data": {
            "text/plain": [
              "60"
            ]
          },
          "metadata": {},
          "execution_count": 18
        }
      ]
    },
    {
      "cell_type": "code",
      "source": [
        "e.kwh_cap"
      ],
      "metadata": {
        "id": "tHz_Pu87TTKR",
        "outputId": "d7bfe94e-abfe-4ffa-c46e-3e0e729a9256",
        "colab": {
          "base_uri": "https://localhost:8080/"
        }
      },
      "execution_count": null,
      "outputs": [
        {
          "output_type": "execute_result",
          "data": {
            "text/plain": [
              "60"
            ]
          },
          "metadata": {},
          "execution_count": 19
        }
      ]
    },
    {
      "cell_type": "code",
      "source": [
        "e.wheels"
      ],
      "metadata": {
        "id": "NUNXZaaATVst",
        "outputId": "fb0c8b12-333f-4933-c31b-8a3a644d8072",
        "colab": {
          "base_uri": "https://localhost:8080/"
        }
      },
      "execution_count": null,
      "outputs": [
        {
          "output_type": "execute_result",
          "data": {
            "text/plain": [
              "4"
            ]
          },
          "metadata": {},
          "execution_count": 20
        }
      ]
    },
    {
      "cell_type": "code",
      "source": [
        "#super()\n",
        "class MyBaseClass:\n",
        "  def __init__(self,x,y):\n",
        "    self.x = x\n",
        "    self.y = y\n",
        "\n",
        "class MyDerivedClass(MyBaseClass):\n",
        "  def __init__(self,x,y,z):\n",
        "    super().__init__(x,y)\n",
        "    self.z = z"
      ],
      "metadata": {
        "id": "pdlEFdIxXrrw"
      },
      "execution_count": 1,
      "outputs": []
    },
    {
      "cell_type": "code",
      "source": [
        "test = MyDerivedClass(10,20,30)"
      ],
      "metadata": {
        "id": "y4K8_aeDnVgL"
      },
      "execution_count": 2,
      "outputs": []
    },
    {
      "cell_type": "code",
      "source": [
        "test.y"
      ],
      "metadata": {
        "colab": {
          "base_uri": "https://localhost:8080/"
        },
        "id": "SLcbiieYnY4T",
        "outputId": "73325086-89dd-4896-a1f6-b0b85d0b7dd3"
      },
      "execution_count": 3,
      "outputs": [
        {
          "output_type": "execute_result",
          "data": {
            "text/plain": [
              "20"
            ]
          },
          "metadata": {},
          "execution_count": 3
        }
      ]
    },
    {
      "cell_type": "code",
      "source": [
        "test.z"
      ],
      "metadata": {
        "colab": {
          "base_uri": "https://localhost:8080/"
        },
        "id": "RGxelQdKnbk1",
        "outputId": "c9eabecf-6d6f-4d39-dfd8-7f9d32b27af5"
      },
      "execution_count": 4,
      "outputs": [
        {
          "output_type": "execute_result",
          "data": {
            "text/plain": [
              "30"
            ]
          },
          "metadata": {},
          "execution_count": 4
        }
      ]
    },
    {
      "cell_type": "code",
      "source": [
        "class A:\n",
        "  def truth(self):\n",
        "    return \"number is even\"\n",
        "\n",
        "class B(A):\n",
        "  pass\n",
        "  # def truth(self):\n",
        "  #   return \"Ankur Arora\"\n",
        "\n",
        "class C(A):\n",
        "  def truth(self):\n",
        "    return \"Number is odd\""
      ],
      "metadata": {
        "id": "nLKE8hQLnkon"
      },
      "execution_count": 15,
      "outputs": []
    },
    {
      "cell_type": "code",
      "source": [
        "class D(B,C):\n",
        "  def truth(self,num):\n",
        "    if num%2==0:\n",
        "      return A.truth(self)\n",
        "    else:\n",
        "      return super().truth()"
      ],
      "metadata": {
        "id": "S_sogNP0oGEO"
      },
      "execution_count": 16,
      "outputs": []
    },
    {
      "cell_type": "code",
      "source": [
        "d = D()\n",
        "d.truth(6)"
      ],
      "metadata": {
        "colab": {
          "base_uri": "https://localhost:8080/",
          "height": 36
        },
        "id": "np3m-priodBe",
        "outputId": "56da6361-c285-44d8-e5d5-7018147f7107"
      },
      "execution_count": 17,
      "outputs": [
        {
          "output_type": "execute_result",
          "data": {
            "text/plain": [
              "'number is even'"
            ],
            "application/vnd.google.colaboratory.intrinsic+json": {
              "type": "string"
            }
          },
          "metadata": {},
          "execution_count": 17
        }
      ]
    },
    {
      "cell_type": "code",
      "source": [
        "d.truth(7)"
      ],
      "metadata": {
        "colab": {
          "base_uri": "https://localhost:8080/",
          "height": 36
        },
        "id": "djM7QW9rokV0",
        "outputId": "68193b86-6315-4ab6-f13f-413ed02bef3d"
      },
      "execution_count": 18,
      "outputs": [
        {
          "output_type": "execute_result",
          "data": {
            "text/plain": [
              "'Number is odd'"
            ],
            "application/vnd.google.colaboratory.intrinsic+json": {
              "type": "string"
            }
          },
          "metadata": {},
          "execution_count": 18
        }
      ]
    },
    {
      "cell_type": "code",
      "source": [],
      "metadata": {
        "id": "CFZq_7pLpDSw"
      },
      "execution_count": null,
      "outputs": []
    }
  ]
}